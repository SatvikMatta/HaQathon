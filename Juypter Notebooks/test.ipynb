{
 "cells": [
  {
   "cell_type": "code",
   "execution_count": 3,
   "metadata": {},
   "outputs": [],
   "source": [
    "# take a screenshot of the entire screen and save it to a variable\n",
    "\n",
    "import io\n",
    "import pyautogui\n",
    "def take_screenshot():\n",
    "    # Take a screenshot of the entire screen\n",
    "    screenshot = pyautogui.screenshot()\n",
    "\n",
    "    # Save the screenshot to a BytesIO object\n",
    "    screenshot_bytes = io.BytesIO()\n",
    "    screenshot.save(screenshot_bytes, format='PNG')\n",
    "    \n",
    "    # Move the cursor to the top-left corner of the screen\n",
    "    pyautogui.moveTo(0, 0)\n",
    "\n",
    "    # Return the BytesIO object containing the screenshot\n",
    "    return screenshot_bytes.getvalue()"
   ]
  },
  {
   "cell_type": "code",
   "execution_count": 4,
   "metadata": {},
   "outputs": [],
   "source": [
    "# save the screenshot to a variable\n",
    "screenshot_data = take_screenshot()\n",
    "# save the screenshot to a file\n",
    "with open('screenshot.png', 'wb') as f:\n",
    "    f.write(screenshot_data)"
   ]
  }
 ],
 "metadata": {
  "kernelspec": {
   "display_name": "pynet",
   "language": "python",
   "name": "python3"
  },
  "language_info": {
   "codemirror_mode": {
    "name": "ipython",
    "version": 3
   },
   "file_extension": ".py",
   "mimetype": "text/x-python",
   "name": "python",
   "nbconvert_exporter": "python",
   "pygments_lexer": "ipython3",
   "version": "3.9.19"
  }
 },
 "nbformat": 4,
 "nbformat_minor": 4
}
