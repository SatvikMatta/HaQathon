{
 "cells": [
  {
   "cell_type": "code",
   "execution_count": 3,
   "id": "6a36b200",
   "metadata": {},
   "outputs": [],
   "source": [
    "# OCR via python-tesseract\n",
    "# This script uses pytesseract to perform OCR on images.\n",
    "import pytesseract\n",
    "from PIL import Image\n",
    "import os\n",
    "def perform_ocr(image_path):\n",
    "    \"\"\"\n",
    "    Perform OCR on the given image and return the extracted text.\n",
    "    \n",
    "    :param image_path: Path to the image file.\n",
    "    :return: Extracted text from the image.\n",
    "    \"\"\"\n",
    "    try:\n",
    "        # Open the image file\n",
    "        with Image.open(image_path) as img:\n",
    "            # Perform OCR using pytesseract\n",
    "            text = pytesseract.image_to_string(img)\n",
    "            return text\n",
    "    except Exception as e:\n",
    "        print(f\"Error processing {image_path}: {e}\")\n",
    "        return None\n",
    "    \n"
   ]
  },
  {
   "cell_type": "code",
   "execution_count": 6,
   "id": "a085ec28",
   "metadata": {},
   "outputs": [
    {
     "name": "stdout",
     "output_type": "stream",
     "text": [
      "Chess.com\n",
      "\n",
      "xX O~Piay\n",
      "\n",
      "Puzzles\n",
      "\n",
      "@ Learn\n",
      "\n",
      "6® Watch\n",
      "News\n",
      "\n",
      "» .\n",
      "& Social\n",
      "\n",
      "ee More\n",
      "Sign Up\n",
      "\n",
      "Log In\n",
      "\n",
      "@ English\n",
      "\n",
      "| > | Support\n",
      "\n",
      "Solve Chess Puzzles\n",
      "\n",
      "Solve Puzzles\n",
      "\n",
      "Play Chess Online\n",
      "on the #1 Site!\n",
      "\n",
      "18,214,442 Games Today 114,031 Playing Now\n",
      "\n",
      "&\n",
      "\n",
      "Play Online\n",
      "\n",
      "Play with someone at your level\n",
      "\n",
      "Play Computer\n",
      "\n",
      "Play vs customizable training bots\n",
      "\n",
      "\n"
     ]
    }
   ],
   "source": [
    "# image_path = '/Users/satvik/Documents/GitHub/HaQathon/screenshot.png'  # Replace with your image file path\n",
    "image_path = '/Users/satvik/Documents/GitHub/HaQathon/chess.png'  # Replace with your image file path\n",
    "t = perform_ocr(image_path)  # Replace with your image file path\n",
    "print(t)"
   ]
  },
  {
   "cell_type": "code",
   "execution_count": null,
   "id": "27a308bc",
   "metadata": {},
   "outputs": [],
   "source": []
  }
 ],
 "metadata": {
  "kernelspec": {
   "display_name": "pynet",
   "language": "python",
   "name": "python3"
  },
  "language_info": {
   "codemirror_mode": {
    "name": "ipython",
    "version": 3
   },
   "file_extension": ".py",
   "mimetype": "text/x-python",
   "name": "python",
   "nbconvert_exporter": "python",
   "pygments_lexer": "ipython3",
   "version": "3.9.19"
  }
 },
 "nbformat": 4,
 "nbformat_minor": 5
}
