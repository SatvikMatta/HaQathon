{
 "cells": [
  {
   "cell_type": "code",
   "execution_count": 2,
   "id": "f0e171bb",
   "metadata": {},
   "outputs": [],
   "source": [
    "import pytesseract\n",
    "from PIL import Image\n",
    "pytesseract.pytesseract.tesseract_cmd = r'C:\\Program Files\\Tesseract-OCR\\tesseract.exe'"
   ]
  },
  {
   "cell_type": "code",
   "execution_count": 3,
   "id": "0a1e6ee8",
   "metadata": {},
   "outputs": [
    {
     "name": "stdout",
     "output_type": "stream",
     "text": [
      "IChesscom\n",
      "¢ Play\n",
      "\n",
      "1H Purses Play Chess Onlin\n",
      "\n",
      "on the #1 Site!\n",
      "\n",
      "@ Learn\n",
      "6® Watch 18,214,442 Games Today 114,031 Playing Ni\n",
      "f News\n",
      "e\n",
      "it Social Play Online\n",
      "Play with someone at your level\n",
      "eee More\n",
      "Q\n",
      "& Play Computer\n",
      "Sign Up = Play vs customizable training bots\n",
      "Log In\n",
      "\n",
      "Solve Chess Puzzles\n",
      "\n",
      "&\n",
      "\n",
      "Ky\n",
      "\n",
      "\n"
     ]
    }
   ],
   "source": [
    "image_path = r\"C:\\Users\\qc_de\\Documents\\HaQathon\\anythingLLMtests\\chess.png\"\n",
    "image = Image.open(image_path)\n",
    "            \n",
    "            # Extract text using OCR\n",
    "extracted_text = pytesseract.image_to_string(image)\n",
    "print(extracted_text)"
   ]
  }
 ],
 "metadata": {
  "kernelspec": {
   "display_name": "Python 3",
   "language": "python",
   "name": "python3"
  },
  "language_info": {
   "codemirror_mode": {
    "name": "ipython",
    "version": 3
   },
   "file_extension": ".py",
   "mimetype": "text/x-python",
   "name": "python",
   "nbconvert_exporter": "python",
   "pygments_lexer": "ipython3",
   "version": "3.11.0"
  }
 },
 "nbformat": 4,
 "nbformat_minor": 5
}
