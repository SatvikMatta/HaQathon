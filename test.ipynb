{
 "cells": [
  {
   "cell_type": "code",
   "execution_count": 3,
   "metadata": {},
   "outputs": [],
   "source": [
    "# take a screenshot of the entire screen and save it to a variable\n",
    "\n",
    "import io\n",
    "import pyautogui\n",
    "def take_screenshot():\n",
    "    # Take a screenshot of the entire screen\n",
    "    screenshot = pyautogui.screenshot()\n",
    "\n",
    "    # Save the screenshot to a BytesIO object\n",
    "    screenshot_bytes = io.BytesIO()\n",
    "    screenshot.save(screenshot_bytes, format='PNG')\n",
    "    \n",
    "    # Move the cursor to the top-left corner of the screen\n",
    "    pyautogui.moveTo(0, 0)\n",
    "\n",
    "    # Return the BytesIO object containing the screenshot\n",
    "    return screenshot_bytes.getvalue()"
   ]
  },
  {
   "cell_type": "code",
   "execution_count": 6,
   "metadata": {},
   "outputs": [
    {
     "ename": "PyAutoGUIException",
     "evalue": "PyAutoGUI was unable to import pyscreeze. (This is likely because you're running a version of Python that Pillow (which pyscreeze depends on) doesn't support currently.) Please install this module to enable the function you tried to call.",
     "output_type": "error",
     "traceback": [
      "\u001b[31m---------------------------------------------------------------------------\u001b[39m",
      "\u001b[31mPyAutoGUIException\u001b[39m                        Traceback (most recent call last)",
      "\u001b[36mCell\u001b[39m\u001b[36m \u001b[39m\u001b[32mIn[6]\u001b[39m\u001b[32m, line 2\u001b[39m\n\u001b[32m      1\u001b[39m \u001b[38;5;66;03m# save the screenshot to a variable\u001b[39;00m\n\u001b[32m----> \u001b[39m\u001b[32m2\u001b[39m screenshot_data = \u001b[43mtake_screenshot\u001b[49m\u001b[43m(\u001b[49m\u001b[43m)\u001b[49m\n\u001b[32m      3\u001b[39m \u001b[38;5;66;03m# save the screenshot to a file\u001b[39;00m\n\u001b[32m      4\u001b[39m \u001b[38;5;28;01mwith\u001b[39;00m \u001b[38;5;28mopen\u001b[39m(\u001b[33m'\u001b[39m\u001b[33mscreenshot.png\u001b[39m\u001b[33m'\u001b[39m, \u001b[33m'\u001b[39m\u001b[33mwb\u001b[39m\u001b[33m'\u001b[39m) \u001b[38;5;28;01mas\u001b[39;00m f:\n",
      "\u001b[36mCell\u001b[39m\u001b[36m \u001b[39m\u001b[32mIn[3]\u001b[39m\u001b[32m, line 7\u001b[39m, in \u001b[36mtake_screenshot\u001b[39m\u001b[34m()\u001b[39m\n\u001b[32m      5\u001b[39m \u001b[38;5;28;01mdef\u001b[39;00m\u001b[38;5;250m \u001b[39m\u001b[34mtake_screenshot\u001b[39m():\n\u001b[32m      6\u001b[39m     \u001b[38;5;66;03m# Take a screenshot of the entire screen\u001b[39;00m\n\u001b[32m----> \u001b[39m\u001b[32m7\u001b[39m     screenshot = \u001b[43mpyautogui\u001b[49m\u001b[43m.\u001b[49m\u001b[43mscreenshot\u001b[49m\u001b[43m(\u001b[49m\u001b[43m)\u001b[49m\n\u001b[32m      9\u001b[39m     \u001b[38;5;66;03m# Save the screenshot to a BytesIO object\u001b[39;00m\n\u001b[32m     10\u001b[39m     screenshot_bytes = io.BytesIO()\n",
      "\u001b[36mFile \u001b[39m\u001b[32m/opt/anaconda3/envs/qualhack/lib/python3.13/site-packages/pyautogui/__init__.py:228\u001b[39m, in \u001b[36m_couldNotImportPyScreeze\u001b[39m\u001b[34m(*unused_args, **unsed_kwargs)\u001b[39m\n\u001b[32m    223\u001b[39m \u001b[38;5;28;01mdef\u001b[39;00m\u001b[38;5;250m \u001b[39m\u001b[34m_couldNotImportPyScreeze\u001b[39m(*unused_args, **unsed_kwargs):\n\u001b[32m    224\u001b[39m \u001b[38;5;250m    \u001b[39m\u001b[33;03m\"\"\"\u001b[39;00m\n\u001b[32m    225\u001b[39m \u001b[33;03m    This function raises ``PyAutoGUIException``. It's used for the PyScreeze function names if the PyScreeze module\u001b[39;00m\n\u001b[32m    226\u001b[39m \u001b[33;03m    failed to be imported.\u001b[39;00m\n\u001b[32m    227\u001b[39m \u001b[33;03m    \"\"\"\u001b[39;00m\n\u001b[32m--> \u001b[39m\u001b[32m228\u001b[39m     \u001b[38;5;28;01mraise\u001b[39;00m PyAutoGUIException(\n\u001b[32m    229\u001b[39m         \u001b[33m\"\u001b[39m\u001b[33mPyAutoGUI was unable to import pyscreeze. (This is likely because you\u001b[39m\u001b[33m'\u001b[39m\u001b[33mre running a version of Python that Pillow (which pyscreeze depends on) doesn\u001b[39m\u001b[33m'\u001b[39m\u001b[33mt support currently.) Please install this module to enable the function you tried to call.\u001b[39m\u001b[33m\"\u001b[39m\n\u001b[32m    230\u001b[39m     )\n",
      "\u001b[31mPyAutoGUIException\u001b[39m: PyAutoGUI was unable to import pyscreeze. (This is likely because you're running a version of Python that Pillow (which pyscreeze depends on) doesn't support currently.) Please install this module to enable the function you tried to call."
     ]
    }
   ],
   "source": [
    "# save the screenshot to a variable\n",
    "screenshot_data = take_screenshot()\n",
    "# save the screenshot to a file\n",
    "with open('screenshot.png', 'wb') as f:\n",
    "    f.write(screenshot_data)"
   ]
  }
 ],
 "metadata": {
  "kernelspec": {
   "display_name": "qualhack",
   "language": "python",
   "name": "python3"
  },
  "language_info": {
   "codemirror_mode": {
    "name": "ipython",
    "version": 3
   },
   "file_extension": ".py",
   "mimetype": "text/x-python",
   "name": "python",
   "nbconvert_exporter": "python",
   "pygments_lexer": "ipython3",
   "version": "3.13.5"
  }
 },
 "nbformat": 4,
 "nbformat_minor": 4
}
